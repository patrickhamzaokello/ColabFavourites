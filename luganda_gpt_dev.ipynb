{
  "nbformat": 4,
  "nbformat_minor": 0,
  "metadata": {
    "colab": {
      "provenance": [],
      "gpuType": "T4",
      "include_colab_link": true
    },
    "kernelspec": {
      "name": "python3",
      "display_name": "Python 3"
    },
    "language_info": {
      "name": "python"
    },
    "accelerator": "GPU"
  },
  "cells": [
    {
      "cell_type": "markdown",
      "metadata": {
        "id": "view-in-github",
        "colab_type": "text"
      },
      "source": [
        "<a href=\"https://colab.research.google.com/github/patrickhamzaokello/ColabFavourites/blob/main/luganda_gpt_dev.ipynb\" target=\"_parent\"><img src=\"https://colab.research.google.com/assets/colab-badge.svg\" alt=\"Open In Colab\"/></a>"
      ]
    },
    {
      "cell_type": "markdown",
      "source": [
        "## Building a GPT\n",
        "\n",
        "Companion notebook to the [Zero To Hero](https://karpathy.ai/zero-to-hero.html) video on GPT."
      ],
      "metadata": {
        "id": "wJpXpmjEYC_T"
      }
    },
    {
      "cell_type": "code",
      "source": [
        "# read it in to inspect it\n",
        "with open('/content/Makerere_Luganda_Monolingual_Corpus.csv', 'r', encoding='utf-8') as f:\n",
        "    text = f.read()"
      ],
      "metadata": {
        "id": "O6medjfRsLD9"
      },
      "execution_count": 37,
      "outputs": []
    },
    {
      "cell_type": "code",
      "source": [
        "print(\"length of dataset in characters: \", len(text))"
      ],
      "metadata": {
        "colab": {
          "base_uri": "https://localhost:8080/"
        },
        "id": "6xWI_VyAsN8F",
        "outputId": "299443d0-5c8d-4e25-8898-f17efbc79833"
      },
      "execution_count": 38,
      "outputs": [
        {
          "output_type": "stream",
          "name": "stdout",
          "text": [
            "length of dataset in characters:  4887803\n"
          ]
        }
      ]
    },
    {
      "cell_type": "code",
      "source": [
        "# let's look at the first 1000 characters\n",
        "print(text[:1000])"
      ],
      "metadata": {
        "colab": {
          "base_uri": "https://localhost:8080/"
        },
        "id": "2c5V0FvqseE0",
        "outputId": "e7ae0709-f21f-414a-e5ea-9843da778d8a"
      },
      "execution_count": 39,
      "outputs": [
        {
          "output_type": "stream",
          "name": "stdout",
          "text": [
            "\"Nindiridde okumanya ebifa ku mukadde wo Omuwokota, ndikutegeeza ebirifaayo.\"\n",
            "Nja kukulekera bulangiti oba ogyetaaga.\n",
            "\"Ku zo mukaaga za lugendo nga oddayo okuwummula mu December, ate ennya onolyangamu ebikajjo.\"\n",
            "Nkiweerezza nga mpeererezaako n'ekirala kye nzudde nga mmanyi nti byombi obyetaaga bumu.\n",
            "Nkubikira Gasuza eyafa ku lunaku lwa Vvu lwennyini.\n",
            "\"Nkukulisa olunaku Iwo, lukulike.\"\n",
            "\"Nkukulisa olunaku lwa Paska, anti nsuubira mwalusoma n'ekitiibwa kinene.\"\n",
            "Nkukulisa olunaku lwo bambi.\n",
            "\"Nkukulisa oluwummula, ne nkwebaza okuyiga bumu n'emirimo gy'okola.\"\n",
            "Nkukulisa olw'Abajulizi mbeera lwe lunaku Iwo.\n",
            "Nkukulisa Paska n'ekisiibo ekirungi.\n",
            "Nkulagaanya okukusabiranga bulijjo anti era n'etteeka linkwata okukusabira bulijjo.\n",
            "Nkulamusa n'essanyu lingi nnyo.\n",
            "Nkusabira bulijjo emikisa emingi.\n",
            "Nkusiibula nga nkwagaliza emikisa gy'Omukama.\n",
            "Nkuwandiikidde nga nnina essanyu lingi nnyo.\n",
            "Nkuweerezza akatikiti k'obuzaale akaava ku Ggombolola.\n",
            "Nkuweerezza ensawo wamu n'ettu ly'ebinyeebwa.\n",
            "Nkuweerezza s\n"
          ]
        }
      ]
    },
    {
      "cell_type": "code",
      "source": [
        "# here are all the unique characters that occur in this text\n",
        "chars = sorted(list(set(text)))\n",
        "vocab_size = len(chars)\n",
        "print(''.join(chars))\n",
        "print(vocab_size)"
      ],
      "metadata": {
        "colab": {
          "base_uri": "https://localhost:8080/"
        },
        "id": "0e-Rbyr8sfM8",
        "outputId": "5fbf0c5a-7dd1-4a66-9a73-234fac15e043"
      },
      "execution_count": 40,
      "outputs": [
        {
          "output_type": "stream",
          "name": "stdout",
          "text": [
            "\n",
            " !\"%'(),-./13468:;?ABCDEFGHIJKLMNOPQRSTUVWXYZ\\`abcdefghijklmnopqrstuvwxyz½àáéñóŊŋƞηМаеопі–‘’“”…🌹\n",
            "97\n"
          ]
        }
      ]
    },
    {
      "cell_type": "code",
      "source": [
        "# create a mapping from characters to integers\n",
        "stoi = { ch:i for i,ch in enumerate(chars) }\n",
        "itos = { i:ch for i,ch in enumerate(chars) }\n",
        "encode = lambda s: [stoi[c] for c in s] # encoder: take a string, output a list of integers\n",
        "decode = lambda l: ''.join([itos[i] for i in l]) # decoder: take a list of integers, output a string\n",
        "\n",
        "print(encode(\"Nkulamusa n'essanyu lingi nnyo\"))\n",
        "print(decode(encode(\"Nkulamusa n'essanyu lingi nnyo\")))"
      ],
      "metadata": {
        "colab": {
          "base_uri": "https://localhost:8080/"
        },
        "id": "Yw1LKNCgwjj1",
        "outputId": "e6af555c-cf6e-4487-f6e1-27677fc24331"
      },
      "execution_count": 41,
      "outputs": [
        {
          "output_type": "stream",
          "name": "stdout",
          "text": [
            "[33, 58, 68, 59, 48, 60, 68, 66, 48, 1, 61, 5, 52, 66, 66, 48, 61, 72, 68, 1, 59, 56, 61, 54, 56, 1, 61, 61, 72, 62]\n",
            "Nkulamusa n'essanyu lingi nnyo\n"
          ]
        }
      ]
    },
    {
      "cell_type": "code",
      "source": [
        "# let's now encode the entire text dataset and store it into a torch.Tensor\n",
        "import torch # we use PyTorch: https://pytorch.org\n",
        "data = torch.tensor(encode(text), dtype=torch.long)\n",
        "print(data.shape, data.dtype)\n",
        "print(data[:1000]) # the 1000 characters we looked at earier will to the GPT look like this"
      ],
      "metadata": {
        "colab": {
          "base_uri": "https://localhost:8080/"
        },
        "id": "YJb0OXPwzvqg",
        "outputId": "afead0fe-bb25-482e-9397-8c07a44e465e"
      },
      "execution_count": 42,
      "outputs": [
        {
          "output_type": "stream",
          "name": "stdout",
          "text": [
            "torch.Size([4887803]) torch.int64\n",
            "tensor([ 3, 33, 56, 61, 51, 56, 65, 56, 51, 51, 52,  1, 62, 58, 68, 60, 48, 61,\n",
            "        72, 48,  1, 52, 49, 56, 53, 48,  1, 58, 68,  1, 60, 68, 58, 48, 51, 51,\n",
            "        52,  1, 70, 62,  1, 34, 60, 68, 70, 62, 58, 62, 67, 48,  8,  1, 61, 51,\n",
            "        56, 58, 68, 67, 52, 54, 52, 52, 73, 48,  1, 52, 49, 56, 65, 56, 53, 48,\n",
            "        48, 72, 62, 10,  3,  0, 33, 57, 48,  1, 58, 68, 58, 68, 59, 52, 58, 52,\n",
            "        65, 48,  1, 49, 68, 59, 48, 61, 54, 56, 67, 56,  1, 62, 49, 48,  1, 62,\n",
            "        54, 72, 52, 67, 48, 48, 54, 48, 10,  0,  3, 30, 68,  1, 73, 62,  1, 60,\n",
            "        68, 58, 48, 48, 54, 48,  1, 73, 48,  1, 59, 68, 54, 52, 61, 51, 62,  1,\n",
            "        61, 54, 48,  1, 62, 51, 51, 48, 72, 62,  1, 62, 58, 68, 70, 68, 60, 60,\n",
            "        68, 59, 48,  1, 60, 68,  1, 23, 52, 50, 52, 60, 49, 52, 65,  8,  1, 48,\n",
            "        67, 52,  1, 52, 61, 61, 72, 48,  1, 62, 61, 62, 59, 72, 48, 61, 54, 48,\n",
            "        60, 68,  1, 52, 49, 56, 58, 48, 57, 57, 62, 10,  3,  0, 33, 58, 56, 70,\n",
            "        52, 52, 65, 52, 73, 73, 48,  1, 61, 54, 48,  1, 60, 63, 52, 52, 65, 52,\n",
            "        65, 52, 73, 48, 48, 58, 62,  1, 61,  5, 52, 58, 56, 65, 48, 59, 48,  1,\n",
            "        58, 72, 52,  1, 61, 73, 68, 51, 51, 52,  1, 61, 54, 48,  1, 60, 60, 48,\n",
            "        61, 72, 56,  1, 61, 67, 56,  1, 49, 72, 62, 60, 49, 56,  1, 62, 49, 72,\n",
            "        52, 67, 48, 48, 54, 48,  1, 49, 68, 60, 68, 10,  0, 33, 58, 68, 49, 56,\n",
            "        58, 56, 65, 48,  1, 26, 48, 66, 68, 73, 48,  1, 52, 72, 48, 53, 48,  1,\n",
            "        58, 68,  1, 59, 68, 61, 48, 58, 68,  1, 59, 70, 48,  1, 41, 69, 68,  1,\n",
            "        59, 70, 52, 61, 61, 72, 56, 61, 56, 10,  0,  3, 33, 58, 68, 58, 68, 59,\n",
            "        56, 66, 48,  1, 62, 59, 68, 61, 48, 58, 68,  1, 28, 70, 62,  8,  1, 59,\n",
            "        68, 58, 68, 59, 56, 58, 52, 10,  3,  0,  3, 33, 58, 68, 58, 68, 59, 56,\n",
            "        66, 48,  1, 62, 59, 68, 61, 48, 58, 68,  1, 59, 70, 48,  1, 35, 48, 66,\n",
            "        58, 48,  8,  1, 48, 61, 67, 56,  1, 61, 66, 68, 68, 49, 56, 65, 48,  1,\n",
            "        60, 70, 48, 59, 68, 66, 62, 60, 48,  1, 61,  5, 52, 58, 56, 67, 56, 56,\n",
            "        49, 70, 48,  1, 58, 56, 61, 52, 61, 52, 10,  3,  0, 33, 58, 68, 58, 68,\n",
            "        59, 56, 66, 48,  1, 62, 59, 68, 61, 48, 58, 68,  1, 59, 70, 62,  1, 49,\n",
            "        48, 60, 49, 56, 10,  0,  3, 33, 58, 68, 58, 68, 59, 56, 66, 48,  1, 62,\n",
            "        59, 68, 70, 68, 60, 60, 68, 59, 48,  8,  1, 61, 52,  1, 61, 58, 70, 52,\n",
            "        49, 48, 73, 48,  1, 62, 58, 68, 72, 56, 54, 48,  1, 49, 68, 60, 68,  1,\n",
            "        61,  5, 52, 60, 56, 65, 56, 60, 62,  1, 54, 72,  5, 62, 58, 62, 59, 48,\n",
            "        10,  3,  0, 33, 58, 68, 58, 68, 59, 56, 66, 48,  1, 62, 59, 70,  5, 20,\n",
            "        49, 48, 57, 68, 59, 56, 73, 56,  1, 60, 49, 52, 52, 65, 48,  1, 59, 70,\n",
            "        52,  1, 59, 68, 61, 48, 58, 68,  1, 28, 70, 62, 10,  0, 33, 58, 68, 58,\n",
            "        68, 59, 56, 66, 48,  1, 35, 48, 66, 58, 48,  1, 61,  5, 52, 58, 56, 66,\n",
            "        56, 56, 49, 62,  1, 52, 58, 56, 65, 68, 61, 54, 56, 10,  0, 33, 58, 68,\n",
            "        59, 48, 54, 48, 48, 61, 72, 48,  1, 62, 58, 68, 58, 68, 66, 48, 49, 56,\n",
            "        65, 48, 61, 54, 48,  1, 49, 68, 59, 56, 57, 57, 62,  1, 48, 61, 67, 56,\n",
            "         1, 52, 65, 48,  1, 61,  5, 52, 67, 67, 52, 52, 58, 48,  1, 59, 56, 61,\n",
            "        58, 70, 48, 67, 48,  1, 62, 58, 68, 58, 68, 66, 48, 49, 56, 65, 48,  1,\n",
            "        49, 68, 59, 56, 57, 57, 62, 10,  0, 33, 58, 68, 59, 48, 60, 68, 66, 48,\n",
            "         1, 61,  5, 52, 66, 66, 48, 61, 72, 68,  1, 59, 56, 61, 54, 56,  1, 61,\n",
            "        61, 72, 62, 10,  0, 33, 58, 68, 66, 48, 49, 56, 65, 48,  1, 49, 68, 59,\n",
            "        56, 57, 57, 62,  1, 52, 60, 56, 58, 56, 66, 48,  1, 52, 60, 56, 61, 54,\n",
            "        56, 10,  0, 33, 58, 68, 66, 56, 56, 49, 68, 59, 48,  1, 61, 54, 48,  1,\n",
            "        61, 58, 70, 48, 54, 48, 59, 56, 73, 48,  1, 52, 60, 56, 58, 56, 66, 48,\n",
            "         1, 54, 72,  5, 34, 60, 68, 58, 48, 60, 48, 10,  0, 33, 58, 68, 70, 48,\n",
            "        61, 51, 56, 56, 58, 56, 51, 51, 52,  1, 61, 54, 48,  1, 61, 61, 56, 61,\n",
            "        48,  1, 52, 66, 66, 48, 61, 72, 68,  1, 59, 56, 61, 54, 56,  1, 61, 61,\n",
            "        72, 62, 10,  0, 33, 58, 68, 70, 52, 52, 65, 52, 73, 73, 48,  1, 48, 58,\n",
            "        48, 67, 56, 58, 56, 67, 56,  1, 58,  5, 62, 49, 68, 73, 48, 48, 59, 52,\n",
            "         1, 48, 58, 48, 48, 69, 48,  1, 58, 68,  1, 26, 54, 62, 60, 49, 62, 59,\n",
            "        62, 59, 48, 10,  0, 33, 58, 68, 70, 52, 52, 65, 52, 73, 73, 48,  1, 52,\n",
            "        61, 66, 48, 70, 62,  1, 70, 48, 60, 68,  1, 61,  5, 52, 67, 67, 68,  1,\n",
            "        59, 72,  5, 52, 49, 56, 61, 72, 52, 52, 49, 70, 48, 10,  0, 33, 58, 68,\n",
            "        70, 52, 52, 65, 52, 73, 73, 48,  1, 66])\n"
          ]
        }
      ]
    },
    {
      "cell_type": "code",
      "source": [
        "# Let's now split up the data into train and validation sets\n",
        "n = int(0.9*len(data)) # first 90% will be train, rest val\n",
        "train_data = data[:n]\n",
        "val_data = data[n:]"
      ],
      "metadata": {
        "id": "f_WIXqxz0lU5"
      },
      "execution_count": 43,
      "outputs": []
    },
    {
      "cell_type": "code",
      "source": [
        "block_size = 8\n",
        "train_data[:block_size+1]"
      ],
      "metadata": {
        "colab": {
          "base_uri": "https://localhost:8080/"
        },
        "id": "TD5Bj8Y6IAD4",
        "outputId": "53284d82-6b09-4add-cd78-cbc352fbd933"
      },
      "execution_count": 44,
      "outputs": [
        {
          "output_type": "execute_result",
          "data": {
            "text/plain": [
              "tensor([ 3, 33, 56, 61, 51, 56, 65, 56, 51])"
            ]
          },
          "metadata": {},
          "execution_count": 44
        }
      ]
    },
    {
      "cell_type": "code",
      "source": [
        "x = train_data[:block_size]\n",
        "y = train_data[1:block_size+1]\n",
        "for t in range(block_size):\n",
        "    context = x[:t+1]\n",
        "    target = y[t]\n",
        "    print(f\"when input is {context} the target: {target}\")"
      ],
      "metadata": {
        "colab": {
          "base_uri": "https://localhost:8080/"
        },
        "id": "9HXDe8vGJCEn",
        "outputId": "f852fb08-5671-47c2-abec-ab73d1eb19c6"
      },
      "execution_count": 45,
      "outputs": [
        {
          "output_type": "stream",
          "name": "stdout",
          "text": [
            "when input is tensor([3]) the target: 33\n",
            "when input is tensor([ 3, 33]) the target: 56\n",
            "when input is tensor([ 3, 33, 56]) the target: 61\n",
            "when input is tensor([ 3, 33, 56, 61]) the target: 51\n",
            "when input is tensor([ 3, 33, 56, 61, 51]) the target: 56\n",
            "when input is tensor([ 3, 33, 56, 61, 51, 56]) the target: 65\n",
            "when input is tensor([ 3, 33, 56, 61, 51, 56, 65]) the target: 56\n",
            "when input is tensor([ 3, 33, 56, 61, 51, 56, 65, 56]) the target: 51\n"
          ]
        }
      ]
    },
    {
      "cell_type": "code",
      "source": [
        "torch.manual_seed(1337)\n",
        "batch_size = 4 # how many independent sequences will we process in parallel?\n",
        "block_size = 8 # what is the maximum context length for predictions?\n",
        "\n",
        "def get_batch(split):\n",
        "    # generate a small batch of data of inputs x and targets y\n",
        "    data = train_data if split == 'train' else val_data\n",
        "    ix = torch.randint(len(data) - block_size, (batch_size,))\n",
        "    x = torch.stack([data[i:i+block_size] for i in ix])\n",
        "    y = torch.stack([data[i+1:i+block_size+1] for i in ix])\n",
        "    return x, y\n",
        "\n",
        "xb, yb = get_batch('train')\n",
        "print('inputs:')\n",
        "print(xb.shape)\n",
        "print(xb)\n",
        "print('targets:')\n",
        "print(yb.shape)\n",
        "print(yb)\n",
        "\n",
        "print('----')\n",
        "\n",
        "for b in range(batch_size): # batch dimension\n",
        "    for t in range(block_size): # time dimension\n",
        "        context = xb[b, :t+1]\n",
        "        target = yb[b,t]\n",
        "        print(f\"when input is {context.tolist()} the target: {target}\")"
      ],
      "metadata": {
        "colab": {
          "base_uri": "https://localhost:8080/"
        },
        "id": "Q3k1Czf7LuA9",
        "outputId": "990accec-27e9-4fe5-8ac1-3ec512d3128c"
      },
      "execution_count": 46,
      "outputs": [
        {
          "output_type": "stream",
          "name": "stdout",
          "text": [
            "inputs:\n",
            "torch.Size([4, 8])\n",
            "tensor([[65, 48,  1, 62, 58, 70, 52, 66],\n",
            "        [48,  1, 48, 60, 48, 54, 48, 61],\n",
            "        [52, 51, 51, 70, 48,  1, 62, 59],\n",
            "        [49, 68, 59, 68, 61, 54, 56, 10]])\n",
            "targets:\n",
            "torch.Size([4, 8])\n",
            "tensor([[48,  1, 62, 58, 70, 52, 66, 56],\n",
            "        [ 1, 48, 60, 48, 54, 48, 61, 51],\n",
            "        [51, 51, 70, 48,  1, 62, 59, 70],\n",
            "        [68, 59, 68, 61, 54, 56, 10,  0]])\n",
            "----\n",
            "when input is [65] the target: 48\n",
            "when input is [65, 48] the target: 1\n",
            "when input is [65, 48, 1] the target: 62\n",
            "when input is [65, 48, 1, 62] the target: 58\n",
            "when input is [65, 48, 1, 62, 58] the target: 70\n",
            "when input is [65, 48, 1, 62, 58, 70] the target: 52\n",
            "when input is [65, 48, 1, 62, 58, 70, 52] the target: 66\n",
            "when input is [65, 48, 1, 62, 58, 70, 52, 66] the target: 56\n",
            "when input is [48] the target: 1\n",
            "when input is [48, 1] the target: 48\n",
            "when input is [48, 1, 48] the target: 60\n",
            "when input is [48, 1, 48, 60] the target: 48\n",
            "when input is [48, 1, 48, 60, 48] the target: 54\n",
            "when input is [48, 1, 48, 60, 48, 54] the target: 48\n",
            "when input is [48, 1, 48, 60, 48, 54, 48] the target: 61\n",
            "when input is [48, 1, 48, 60, 48, 54, 48, 61] the target: 51\n",
            "when input is [52] the target: 51\n",
            "when input is [52, 51] the target: 51\n",
            "when input is [52, 51, 51] the target: 70\n",
            "when input is [52, 51, 51, 70] the target: 48\n",
            "when input is [52, 51, 51, 70, 48] the target: 1\n",
            "when input is [52, 51, 51, 70, 48, 1] the target: 62\n",
            "when input is [52, 51, 51, 70, 48, 1, 62] the target: 59\n",
            "when input is [52, 51, 51, 70, 48, 1, 62, 59] the target: 70\n",
            "when input is [49] the target: 68\n",
            "when input is [49, 68] the target: 59\n",
            "when input is [49, 68, 59] the target: 68\n",
            "when input is [49, 68, 59, 68] the target: 61\n",
            "when input is [49, 68, 59, 68, 61] the target: 54\n",
            "when input is [49, 68, 59, 68, 61, 54] the target: 56\n",
            "when input is [49, 68, 59, 68, 61, 54, 56] the target: 10\n",
            "when input is [49, 68, 59, 68, 61, 54, 56, 10] the target: 0\n"
          ]
        }
      ]
    },
    {
      "cell_type": "code",
      "source": [
        "print(xb) # our input to the transformer"
      ],
      "metadata": {
        "colab": {
          "base_uri": "https://localhost:8080/"
        },
        "id": "qpyyAeIzQjlO",
        "outputId": "f9dea501-226d-4171-ba9c-17c44a165b08"
      },
      "execution_count": 47,
      "outputs": [
        {
          "output_type": "stream",
          "name": "stdout",
          "text": [
            "tensor([[65, 48,  1, 62, 58, 70, 52, 66],\n",
            "        [48,  1, 48, 60, 48, 54, 48, 61],\n",
            "        [52, 51, 51, 70, 48,  1, 62, 59],\n",
            "        [49, 68, 59, 68, 61, 54, 56, 10]])\n"
          ]
        }
      ]
    },
    {
      "cell_type": "code",
      "source": [
        "import torch\n",
        "import torch.nn as nn\n",
        "from torch.nn import functional as F\n",
        "torch.manual_seed(1337)\n",
        "\n",
        "class BigramLanguageModel(nn.Module):\n",
        "\n",
        "    def __init__(self, vocab_size):\n",
        "        super().__init__()\n",
        "        # each token directly reads off the logits for the next token from a lookup table\n",
        "        self.token_embedding_table = nn.Embedding(vocab_size, vocab_size)\n",
        "\n",
        "    def forward(self, idx, targets=None):\n",
        "\n",
        "        # idx and targets are both (B,T) tensor of integers\n",
        "        logits = self.token_embedding_table(idx) # (B,T,C)\n",
        "\n",
        "        if targets is None:\n",
        "            loss = None\n",
        "        else:\n",
        "            B, T, C = logits.shape\n",
        "            logits = logits.view(B*T, C)\n",
        "            targets = targets.view(B*T)\n",
        "            loss = F.cross_entropy(logits, targets)\n",
        "\n",
        "        return logits, loss\n",
        "\n",
        "    def generate(self, idx, max_new_tokens):\n",
        "        # idx is (B, T) array of indices in the current context\n",
        "        for _ in range(max_new_tokens):\n",
        "            # get the predictions\n",
        "            logits, loss = self(idx)\n",
        "            # focus only on the last time step\n",
        "            logits = logits[:, -1, :] # becomes (B, C)\n",
        "            # apply softmax to get probabilities\n",
        "            probs = F.softmax(logits, dim=-1) # (B, C)\n",
        "            # sample from the distribution\n",
        "            idx_next = torch.multinomial(probs, num_samples=1) # (B, 1)\n",
        "            # append sampled index to the running sequence\n",
        "            idx = torch.cat((idx, idx_next), dim=1) # (B, T+1)\n",
        "        return idx\n",
        "\n",
        "m = BigramLanguageModel(vocab_size)\n",
        "logits, loss = m(xb, yb)\n",
        "print(logits.shape)\n",
        "print(loss)\n",
        "\n",
        "print(decode(m.generate(idx = torch.zeros((1, 1), dtype=torch.long), max_new_tokens=100)[0].tolist()))\n"
      ],
      "metadata": {
        "colab": {
          "base_uri": "https://localhost:8080/"
        },
        "id": "nql_1ER53oCf",
        "outputId": "0ae6aefd-7890-4a3c-f6ae-415cdf3dc6b4"
      },
      "execution_count": 48,
      "outputs": [
        {
          "output_type": "stream",
          "name": "stdout",
          "text": [
            "torch.Size([32, 97])\n",
            "tensor(5.1082, grad_fn=<NllLossBackward0>)\n",
            "\n",
            "fiw“.…eI?UMМUп3KdFŋó`ak\\pPTKdp(ƞпCKKja🌹FGkr\"M:SkqGNñ:–epE…і.V3'”V'Dáqηfv8-–'`S½\"…yQ\n",
            "8\"іI\n",
            "f.1-DJ`6XgP\n"
          ]
        }
      ]
    },
    {
      "cell_type": "code",
      "source": [
        "# create a PyTorch optimizer\n",
        "optimizer = torch.optim.AdamW(m.parameters(), lr=1e-3)"
      ],
      "metadata": {
        "id": "eTyJ8qAaDdiF"
      },
      "execution_count": 49,
      "outputs": []
    },
    {
      "cell_type": "code",
      "source": [
        "batch_size = 32\n",
        "for steps in range(100000): # increase number of steps for good results...\n",
        "\n",
        "    # sample a batch of data\n",
        "    xb, yb = get_batch('train')\n",
        "\n",
        "    # evaluate the loss\n",
        "    logits, loss = m(xb, yb)\n",
        "    optimizer.zero_grad(set_to_none=True)\n",
        "    loss.backward()\n",
        "    optimizer.step()\n",
        "\n",
        "print(loss.item())\n"
      ],
      "metadata": {
        "colab": {
          "base_uri": "https://localhost:8080/"
        },
        "id": "Hs4kI8YdEkQj",
        "outputId": "ef850d05-c32f-4964-ef54-2d98a0e92b71"
      },
      "execution_count": 57,
      "outputs": [
        {
          "output_type": "stream",
          "name": "stdout",
          "text": [
            "2.2077035903930664\n"
          ]
        }
      ]
    },
    {
      "cell_type": "code",
      "source": [
        "print(decode(m.generate(idx = torch.zeros((1, 1), dtype=torch.long), max_new_tokens=500)[0].tolist()))"
      ],
      "metadata": {
        "colab": {
          "base_uri": "https://localhost:8080/"
        },
        "id": "EcVIDWAZEtjN",
        "outputId": "ab573d87-c248-4bb5-ea26-6c8f7bdca948"
      },
      "execution_count": 67,
      "outputs": [
        {
          "output_type": "stream",
          "name": "stdout",
          "text": [
            "\n",
            "Abawetiku nzimunozirwalituta zi la egane ga kya oliku aba kuziku mute assemuka ago na adeye nn’ego we muga na hnjja.\n",
            "Eki kee.\n",
            "Bufudetuzi eri kiddalirowaa lagasati a Mirebow'eri okudddde bala omeera balwaba\n",
            "Aba ebusakwa oome obbabi a zesiba ba yooongako kasivukunntebddamwabbii ema.\n",
            "Nntyo nsokuma muuntintera kkifu buladwuyona nge o zii eena.\n",
            "Weri pe mwa Nyokunkyana.\n",
            "Haje mireenya nambu kwati o akuula wu Pulidanovumuga Kakuka akama mebyo kuferi\"Teki budiraniki ta nekwakitiddweromu ba o.\n",
            "Bondiriri, \n"
          ]
        }
      ]
    },
    {
      "cell_type": "markdown",
      "source": [
        "## The mathematical trick in self-attention"
      ],
      "metadata": {
        "id": "XinV8nmAnmKN"
      }
    },
    {
      "cell_type": "code",
      "source": [
        "# toy example illustrating how matrix multiplication can be used for a \"weighted aggregation\"\n",
        "torch.manual_seed(42)\n",
        "a = torch.tril(torch.ones(3, 3))\n",
        "a = a / torch.sum(a, 1, keepdim=True)\n",
        "b = torch.randint(0,10,(3,2)).float()\n",
        "c = a @ b\n",
        "print('a=')\n",
        "print(a)\n",
        "print('--')\n",
        "print('b=')\n",
        "print(b)\n",
        "print('--')\n",
        "print('c=')\n",
        "print(c)"
      ],
      "metadata": {
        "colab": {
          "base_uri": "https://localhost:8080/"
        },
        "id": "tukiH-NbRBhA",
        "outputId": "9e4e9399-3224-4b69-fd38-ea3d25006a08"
      },
      "execution_count": 17,
      "outputs": [
        {
          "output_type": "stream",
          "name": "stdout",
          "text": [
            "a=\n",
            "tensor([[1.0000, 0.0000, 0.0000],\n",
            "        [0.5000, 0.5000, 0.0000],\n",
            "        [0.3333, 0.3333, 0.3333]])\n",
            "--\n",
            "b=\n",
            "tensor([[2., 7.],\n",
            "        [6., 4.],\n",
            "        [6., 5.]])\n",
            "--\n",
            "c=\n",
            "tensor([[2.0000, 7.0000],\n",
            "        [4.0000, 5.5000],\n",
            "        [4.6667, 5.3333]])\n"
          ]
        }
      ]
    },
    {
      "cell_type": "code",
      "source": [
        "# consider the following toy example:\n",
        "\n",
        "torch.manual_seed(1337)\n",
        "B,T,C = 4,8,2 # batch, time, channels\n",
        "x = torch.randn(B,T,C)\n",
        "x.shape"
      ],
      "metadata": {
        "colab": {
          "base_uri": "https://localhost:8080/"
        },
        "id": "Hs_E24uRE8kr",
        "outputId": "de07380d-cd54-48f6-edd3-32814899b7b4"
      },
      "execution_count": 18,
      "outputs": [
        {
          "output_type": "execute_result",
          "data": {
            "text/plain": [
              "torch.Size([4, 8, 2])"
            ]
          },
          "metadata": {},
          "execution_count": 18
        }
      ]
    },
    {
      "cell_type": "code",
      "source": [
        "# We want x[b,t] = mean_{i<=t} x[b,i]\n",
        "xbow = torch.zeros((B,T,C))\n",
        "for b in range(B):\n",
        "    for t in range(T):\n",
        "        xprev = x[b,:t+1] # (t,C)\n",
        "        xbow[b,t] = torch.mean(xprev, 0)\n"
      ],
      "metadata": {
        "id": "86NuXX0fn7ps"
      },
      "execution_count": 19,
      "outputs": []
    },
    {
      "cell_type": "code",
      "source": [
        "# version 2: using matrix multiply for a weighted aggregation\n",
        "wei = torch.tril(torch.ones(T, T))\n",
        "wei = wei / wei.sum(1, keepdim=True)\n",
        "xbow2 = wei @ x # (B, T, T) @ (B, T, C) ----> (B, T, C)\n",
        "torch.allclose(xbow, xbow2)"
      ],
      "metadata": {
        "colab": {
          "base_uri": "https://localhost:8080/"
        },
        "id": "yhdOAd6-wXkZ",
        "outputId": "37ee42df-a9b3-451e-ddf3-d74415c34fbc"
      },
      "execution_count": 20,
      "outputs": [
        {
          "output_type": "execute_result",
          "data": {
            "text/plain": [
              "False"
            ]
          },
          "metadata": {},
          "execution_count": 20
        }
      ]
    },
    {
      "cell_type": "code",
      "source": [
        "# version 3: use Softmax\n",
        "tril = torch.tril(torch.ones(T, T))\n",
        "wei = torch.zeros((T,T))\n",
        "wei = wei.masked_fill(tril == 0, float('-inf'))\n",
        "wei = F.softmax(wei, dim=-1)\n",
        "xbow3 = wei @ x\n",
        "torch.allclose(xbow, xbow3)\n"
      ],
      "metadata": {
        "colab": {
          "base_uri": "https://localhost:8080/"
        },
        "id": "wOURrfG-ysoL",
        "outputId": "6a6a403b-339f-44f8-c570-e84a656d3e9c"
      },
      "execution_count": 21,
      "outputs": [
        {
          "output_type": "execute_result",
          "data": {
            "text/plain": [
              "False"
            ]
          },
          "metadata": {},
          "execution_count": 21
        }
      ]
    },
    {
      "cell_type": "code",
      "source": [
        "# version 4: self-attention!\n",
        "torch.manual_seed(1337)\n",
        "B,T,C = 4,8,32 # batch, time, channels\n",
        "x = torch.randn(B,T,C)\n",
        "\n",
        "# let's see a single Head perform self-attention\n",
        "head_size = 16\n",
        "key = nn.Linear(C, head_size, bias=False)\n",
        "query = nn.Linear(C, head_size, bias=False)\n",
        "value = nn.Linear(C, head_size, bias=False)\n",
        "k = key(x)   # (B, T, 16)\n",
        "q = query(x) # (B, T, 16)\n",
        "wei =  q @ k.transpose(-2, -1) # (B, T, 16) @ (B, 16, T) ---> (B, T, T)\n",
        "\n",
        "tril = torch.tril(torch.ones(T, T))\n",
        "#wei = torch.zeros((T,T))\n",
        "wei = wei.masked_fill(tril == 0, float('-inf'))\n",
        "wei = F.softmax(wei, dim=-1)\n",
        "\n",
        "v = value(x)\n",
        "out = wei @ v\n",
        "#out = wei @ x\n",
        "\n",
        "out.shape"
      ],
      "metadata": {
        "colab": {
          "base_uri": "https://localhost:8080/"
        },
        "id": "EDarxEWIRMKq",
        "outputId": "275bd77d-32b9-4f50-f708-f5f058117aa5"
      },
      "execution_count": 22,
      "outputs": [
        {
          "output_type": "execute_result",
          "data": {
            "text/plain": [
              "torch.Size([4, 8, 16])"
            ]
          },
          "metadata": {},
          "execution_count": 22
        }
      ]
    },
    {
      "cell_type": "code",
      "source": [
        "wei[0]"
      ],
      "metadata": {
        "colab": {
          "base_uri": "https://localhost:8080/"
        },
        "id": "vT1hdtzXCjgL",
        "outputId": "ebaf2603-2e2d-496c-bff7-afa954340fa7"
      },
      "execution_count": 23,
      "outputs": [
        {
          "output_type": "execute_result",
          "data": {
            "text/plain": [
              "tensor([[1.0000, 0.0000, 0.0000, 0.0000, 0.0000, 0.0000, 0.0000, 0.0000],\n",
              "        [0.1574, 0.8426, 0.0000, 0.0000, 0.0000, 0.0000, 0.0000, 0.0000],\n",
              "        [0.2088, 0.1646, 0.6266, 0.0000, 0.0000, 0.0000, 0.0000, 0.0000],\n",
              "        [0.5792, 0.1187, 0.1889, 0.1131, 0.0000, 0.0000, 0.0000, 0.0000],\n",
              "        [0.0294, 0.1052, 0.0469, 0.0276, 0.7909, 0.0000, 0.0000, 0.0000],\n",
              "        [0.0176, 0.2689, 0.0215, 0.0089, 0.6812, 0.0019, 0.0000, 0.0000],\n",
              "        [0.1691, 0.4066, 0.0438, 0.0416, 0.1048, 0.2012, 0.0329, 0.0000],\n",
              "        [0.0210, 0.0843, 0.0555, 0.2297, 0.0573, 0.0709, 0.2423, 0.2391]],\n",
              "       grad_fn=<SelectBackward0>)"
            ]
          },
          "metadata": {},
          "execution_count": 23
        }
      ]
    },
    {
      "cell_type": "markdown",
      "source": [
        "Notes:\n",
        "- Attention is a **communication mechanism**. Can be seen as nodes in a directed graph looking at each other and aggregating information with a weighted sum from all nodes that point to them, with data-dependent weights.\n",
        "- There is no notion of space. Attention simply acts over a set of vectors. This is why we need to positionally encode tokens.\n",
        "- Each example across batch dimension is of course processed completely independently and never \"talk\" to each other\n",
        "- In an \"encoder\" attention block just delete the single line that does masking with `tril`, allowing all tokens to communicate. This block here is called a \"decoder\" attention block because it has triangular masking, and is usually used in autoregressive settings, like language modeling.\n",
        "- \"self-attention\" just means that the keys and values are produced from the same source as queries. In \"cross-attention\", the queries still get produced from x, but the keys and values come from some other, external source (e.g. an encoder module)\n",
        "- \"Scaled\" attention additional divides `wei` by 1/sqrt(head_size). This makes it so when input Q,K are unit variance, wei will be unit variance too and Softmax will stay diffuse and not saturate too much. Illustration below"
      ],
      "metadata": {
        "id": "M5CvobiQ0pLr"
      }
    },
    {
      "cell_type": "code",
      "source": [
        "k = torch.randn(B,T,head_size)\n",
        "q = torch.randn(B,T,head_size)\n",
        "wei = q @ k.transpose(-2, -1) * head_size**-0.5"
      ],
      "metadata": {
        "id": "4SNbLq5z3oBw"
      },
      "execution_count": 24,
      "outputs": []
    },
    {
      "cell_type": "code",
      "source": [
        "k.var()"
      ],
      "metadata": {
        "colab": {
          "base_uri": "https://localhost:8080/"
        },
        "id": "Nl6I9n9IRTSo",
        "outputId": "cbf5fd44-8db9-4d38-8a60-c487dfc21c30"
      },
      "execution_count": 25,
      "outputs": [
        {
          "output_type": "execute_result",
          "data": {
            "text/plain": [
              "tensor(1.0449)"
            ]
          },
          "metadata": {},
          "execution_count": 25
        }
      ]
    },
    {
      "cell_type": "code",
      "source": [
        "q.var()"
      ],
      "metadata": {
        "colab": {
          "base_uri": "https://localhost:8080/"
        },
        "id": "T1tQx7oeRvtc",
        "outputId": "9f8142e0-7f5c-48bf-af69-22a655bc3bc4"
      },
      "execution_count": 26,
      "outputs": [
        {
          "output_type": "execute_result",
          "data": {
            "text/plain": [
              "tensor(1.0700)"
            ]
          },
          "metadata": {},
          "execution_count": 26
        }
      ]
    },
    {
      "cell_type": "code",
      "source": [
        "wei.var()"
      ],
      "metadata": {
        "colab": {
          "base_uri": "https://localhost:8080/"
        },
        "id": "MLb_odHU3iKM",
        "outputId": "018f0782-3ddb-44ef-e37d-81d7a0d16d2c"
      },
      "execution_count": 27,
      "outputs": [
        {
          "output_type": "execute_result",
          "data": {
            "text/plain": [
              "tensor(1.0918)"
            ]
          },
          "metadata": {},
          "execution_count": 27
        }
      ]
    },
    {
      "cell_type": "code",
      "source": [
        "torch.softmax(torch.tensor([0.1, -0.2, 0.3, -0.2, 0.5]), dim=-1)"
      ],
      "metadata": {
        "colab": {
          "base_uri": "https://localhost:8080/"
        },
        "id": "JB82yzt44REI",
        "outputId": "e5ff6ca6-e649-450c-a634-7f27c6ed81d5"
      },
      "execution_count": 28,
      "outputs": [
        {
          "output_type": "execute_result",
          "data": {
            "text/plain": [
              "tensor([0.1925, 0.1426, 0.2351, 0.1426, 0.2872])"
            ]
          },
          "metadata": {},
          "execution_count": 28
        }
      ]
    },
    {
      "cell_type": "code",
      "source": [
        "torch.softmax(torch.tensor([0.1, -0.2, 0.3, -0.2, 0.5])*8, dim=-1) # gets too peaky, converges to one-hot"
      ],
      "metadata": {
        "colab": {
          "base_uri": "https://localhost:8080/"
        },
        "id": "Mpt8569BB9_f",
        "outputId": "31ef781f-8d44-47b4-f788-29b351d5e5c7"
      },
      "execution_count": 29,
      "outputs": [
        {
          "output_type": "execute_result",
          "data": {
            "text/plain": [
              "tensor([0.0326, 0.0030, 0.1615, 0.0030, 0.8000])"
            ]
          },
          "metadata": {},
          "execution_count": 29
        }
      ]
    },
    {
      "cell_type": "code",
      "source": [
        "class LayerNorm1d: # (used to be BatchNorm1d)\n",
        "\n",
        "  def __init__(self, dim, eps=1e-5, momentum=0.1):\n",
        "    self.eps = eps\n",
        "    self.gamma = torch.ones(dim)\n",
        "    self.beta = torch.zeros(dim)\n",
        "\n",
        "  def __call__(self, x):\n",
        "    # calculate the forward pass\n",
        "    xmean = x.mean(1, keepdim=True) # batch mean\n",
        "    xvar = x.var(1, keepdim=True) # batch variance\n",
        "    xhat = (x - xmean) / torch.sqrt(xvar + self.eps) # normalize to unit variance\n",
        "    self.out = self.gamma * xhat + self.beta\n",
        "    return self.out\n",
        "\n",
        "  def parameters(self):\n",
        "    return [self.gamma, self.beta]\n",
        "\n",
        "torch.manual_seed(1337)\n",
        "module = LayerNorm1d(100)\n",
        "x = torch.randn(32, 100) # batch size 32 of 100-dimensional vectors\n",
        "x = module(x)\n",
        "x.shape"
      ],
      "metadata": {
        "colab": {
          "base_uri": "https://localhost:8080/"
        },
        "id": "2Num7sX9CKOH",
        "outputId": "c8fa83ba-7ade-4f81-ea11-9d8c93609c83"
      },
      "execution_count": 30,
      "outputs": [
        {
          "output_type": "execute_result",
          "data": {
            "text/plain": [
              "torch.Size([32, 100])"
            ]
          },
          "metadata": {},
          "execution_count": 30
        }
      ]
    },
    {
      "cell_type": "code",
      "source": [
        "x[:,0].mean(), x[:,0].std() # mean,std of one feature across all batch inputs"
      ],
      "metadata": {
        "colab": {
          "base_uri": "https://localhost:8080/"
        },
        "id": "633T2cmnW1uk",
        "outputId": "82140b1a-3ffd-46ed-ad9d-a52c53b8af27"
      },
      "execution_count": 31,
      "outputs": [
        {
          "output_type": "execute_result",
          "data": {
            "text/plain": [
              "(tensor(0.1469), tensor(0.8803))"
            ]
          },
          "metadata": {},
          "execution_count": 31
        }
      ]
    },
    {
      "cell_type": "code",
      "source": [
        "x[0,:].mean(), x[0,:].std() # mean,std of a single input from the batch, of its features"
      ],
      "metadata": {
        "colab": {
          "base_uri": "https://localhost:8080/"
        },
        "id": "LN9cK9BoXCYb",
        "outputId": "2725e646-b339-468c-e222-a2564a04b9c0"
      },
      "execution_count": 32,
      "outputs": [
        {
          "output_type": "execute_result",
          "data": {
            "text/plain": [
              "(tensor(-9.5367e-09), tensor(1.0000))"
            ]
          },
          "metadata": {},
          "execution_count": 32
        }
      ]
    },
    {
      "cell_type": "code",
      "source": [
        "# French to English translation example:\n",
        "\n",
        "# <--------- ENCODE ------------------><--------------- DECODE ----------------->\n",
        "# les réseaux de neurones sont géniaux! <START> neural networks are awesome!<END>\n",
        "\n"
      ],
      "metadata": {
        "id": "dRJH6wM_XFfU"
      },
      "execution_count": 33,
      "outputs": []
    },
    {
      "cell_type": "markdown",
      "source": [
        "### Full finished code, for reference\n",
        "\n",
        "You may want to refer directly to the git repo instead though."
      ],
      "metadata": {
        "id": "ZcvKeBXoZFOY"
      }
    },
    {
      "cell_type": "code",
      "source": [
        "import torch\n",
        "import torch.nn as nn\n",
        "from torch.nn import functional as F\n",
        "\n",
        "# hyperparameters\n",
        "batch_size = 16 # how many independent sequences will we process in parallel?\n",
        "block_size = 32 # what is the maximum context length for predictions?\n",
        "max_iters = 5000\n",
        "eval_interval = 100\n",
        "learning_rate = 1e-3\n",
        "device = 'cuda' if torch.cuda.is_available() else 'cpu'\n",
        "eval_iters = 200\n",
        "n_embd = 64\n",
        "n_head = 4\n",
        "n_layer = 4\n",
        "dropout = 0.0\n",
        "# ------------\n",
        "\n",
        "torch.manual_seed(1337)\n",
        "\n",
        "# wget https://raw.githubusercontent.com/karpathy/char-rnn/master/data/tinyshakespeare/input.txt\n",
        "with open('/content/Makerere_Luganda_Monolingual_Corpus.csv', 'r', encoding='utf-8') as f:\n",
        "    text = f.read()\n",
        "\n",
        "# here are all the unique characters that occur in this text\n",
        "chars = sorted(list(set(text)))\n",
        "vocab_size = len(chars)\n",
        "# create a mapping from characters to integers\n",
        "stoi = { ch:i for i,ch in enumerate(chars) }\n",
        "itos = { i:ch for i,ch in enumerate(chars) }\n",
        "encode = lambda s: [stoi[c] for c in s] # encoder: take a string, output a list of integers\n",
        "decode = lambda l: ''.join([itos[i] for i in l]) # decoder: take a list of integers, output a string\n",
        "\n",
        "# Train and test splits\n",
        "data = torch.tensor(encode(text), dtype=torch.long)\n",
        "n = int(0.9*len(data)) # first 90% will be train, rest val\n",
        "train_data = data[:n]\n",
        "val_data = data[n:]\n",
        "\n",
        "# data loading\n",
        "def get_batch(split):\n",
        "    # generate a small batch of data of inputs x and targets y\n",
        "    data = train_data if split == 'train' else val_data\n",
        "    ix = torch.randint(len(data) - block_size, (batch_size,))\n",
        "    x = torch.stack([data[i:i+block_size] for i in ix])\n",
        "    y = torch.stack([data[i+1:i+block_size+1] for i in ix])\n",
        "    x, y = x.to(device), y.to(device)\n",
        "    return x, y\n",
        "\n",
        "@torch.no_grad()\n",
        "def estimate_loss():\n",
        "    out = {}\n",
        "    model.eval()\n",
        "    for split in ['train', 'val']:\n",
        "        losses = torch.zeros(eval_iters)\n",
        "        for k in range(eval_iters):\n",
        "            X, Y = get_batch(split)\n",
        "            logits, loss = model(X, Y)\n",
        "            losses[k] = loss.item()\n",
        "        out[split] = losses.mean()\n",
        "    model.train()\n",
        "    return out\n",
        "\n",
        "class Head(nn.Module):\n",
        "    \"\"\" one head of self-attention \"\"\"\n",
        "\n",
        "    def __init__(self, head_size):\n",
        "        super().__init__()\n",
        "        self.key = nn.Linear(n_embd, head_size, bias=False)\n",
        "        self.query = nn.Linear(n_embd, head_size, bias=False)\n",
        "        self.value = nn.Linear(n_embd, head_size, bias=False)\n",
        "        self.register_buffer('tril', torch.tril(torch.ones(block_size, block_size)))\n",
        "\n",
        "        self.dropout = nn.Dropout(dropout)\n",
        "\n",
        "    def forward(self, x):\n",
        "        B,T,C = x.shape\n",
        "        k = self.key(x)   # (B,T,C)\n",
        "        q = self.query(x) # (B,T,C)\n",
        "        # compute attention scores (\"affinities\")\n",
        "        wei = q @ k.transpose(-2,-1) * C**-0.5 # (B, T, C) @ (B, C, T) -> (B, T, T)\n",
        "        wei = wei.masked_fill(self.tril[:T, :T] == 0, float('-inf')) # (B, T, T)\n",
        "        wei = F.softmax(wei, dim=-1) # (B, T, T)\n",
        "        wei = self.dropout(wei)\n",
        "        # perform the weighted aggregation of the values\n",
        "        v = self.value(x) # (B,T,C)\n",
        "        out = wei @ v # (B, T, T) @ (B, T, C) -> (B, T, C)\n",
        "        return out\n",
        "\n",
        "class MultiHeadAttention(nn.Module):\n",
        "    \"\"\" multiple heads of self-attention in parallel \"\"\"\n",
        "\n",
        "    def __init__(self, num_heads, head_size):\n",
        "        super().__init__()\n",
        "        self.heads = nn.ModuleList([Head(head_size) for _ in range(num_heads)])\n",
        "        self.proj = nn.Linear(n_embd, n_embd)\n",
        "        self.dropout = nn.Dropout(dropout)\n",
        "\n",
        "    def forward(self, x):\n",
        "        out = torch.cat([h(x) for h in self.heads], dim=-1)\n",
        "        out = self.dropout(self.proj(out))\n",
        "        return out\n",
        "\n",
        "class FeedFoward(nn.Module):\n",
        "    \"\"\" a simple linear layer followed by a non-linearity \"\"\"\n",
        "\n",
        "    def __init__(self, n_embd):\n",
        "        super().__init__()\n",
        "        self.net = nn.Sequential(\n",
        "            nn.Linear(n_embd, 4 * n_embd),\n",
        "            nn.ReLU(),\n",
        "            nn.Linear(4 * n_embd, n_embd),\n",
        "            nn.Dropout(dropout),\n",
        "        )\n",
        "\n",
        "    def forward(self, x):\n",
        "        return self.net(x)\n",
        "\n",
        "class Block(nn.Module):\n",
        "    \"\"\" Transformer block: communication followed by computation \"\"\"\n",
        "\n",
        "    def __init__(self, n_embd, n_head):\n",
        "        # n_embd: embedding dimension, n_head: the number of heads we'd like\n",
        "        super().__init__()\n",
        "        head_size = n_embd // n_head\n",
        "        self.sa = MultiHeadAttention(n_head, head_size)\n",
        "        self.ffwd = FeedFoward(n_embd)\n",
        "        self.ln1 = nn.LayerNorm(n_embd)\n",
        "        self.ln2 = nn.LayerNorm(n_embd)\n",
        "\n",
        "    def forward(self, x):\n",
        "        x = x + self.sa(self.ln1(x))\n",
        "        x = x + self.ffwd(self.ln2(x))\n",
        "        return x\n",
        "\n",
        "# super simple bigram model\n",
        "class BigramLanguageModel(nn.Module):\n",
        "\n",
        "    def __init__(self):\n",
        "        super().__init__()\n",
        "        # each token directly reads off the logits for the next token from a lookup table\n",
        "        self.token_embedding_table = nn.Embedding(vocab_size, n_embd)\n",
        "        self.position_embedding_table = nn.Embedding(block_size, n_embd)\n",
        "        self.blocks = nn.Sequential(*[Block(n_embd, n_head=n_head) for _ in range(n_layer)])\n",
        "        self.ln_f = nn.LayerNorm(n_embd) # final layer norm\n",
        "        self.lm_head = nn.Linear(n_embd, vocab_size)\n",
        "\n",
        "    def forward(self, idx, targets=None):\n",
        "        B, T = idx.shape\n",
        "\n",
        "        # idx and targets are both (B,T) tensor of integers\n",
        "        tok_emb = self.token_embedding_table(idx) # (B,T,C)\n",
        "        pos_emb = self.position_embedding_table(torch.arange(T, device=device)) # (T,C)\n",
        "        x = tok_emb + pos_emb # (B,T,C)\n",
        "        x = self.blocks(x) # (B,T,C)\n",
        "        x = self.ln_f(x) # (B,T,C)\n",
        "        logits = self.lm_head(x) # (B,T,vocab_size)\n",
        "\n",
        "        if targets is None:\n",
        "            loss = None\n",
        "        else:\n",
        "            B, T, C = logits.shape\n",
        "            logits = logits.view(B*T, C)\n",
        "            targets = targets.view(B*T)\n",
        "            loss = F.cross_entropy(logits, targets)\n",
        "\n",
        "        return logits, loss\n",
        "\n",
        "    def generate(self, idx, max_new_tokens):\n",
        "        # idx is (B, T) array of indices in the current context\n",
        "        for _ in range(max_new_tokens):\n",
        "            # crop idx to the last block_size tokens\n",
        "            idx_cond = idx[:, -block_size:]\n",
        "            # get the predictions\n",
        "            logits, loss = self(idx_cond)\n",
        "            # focus only on the last time step\n",
        "            logits = logits[:, -1, :] # becomes (B, C)\n",
        "            # apply softmax to get probabilities\n",
        "            probs = F.softmax(logits, dim=-1) # (B, C)\n",
        "            # sample from the distribution\n",
        "            idx_next = torch.multinomial(probs, num_samples=1) # (B, 1)\n",
        "            # append sampled index to the running sequence\n",
        "            idx = torch.cat((idx, idx_next), dim=1) # (B, T+1)\n",
        "        return idx\n",
        "\n",
        "model = BigramLanguageModel()\n",
        "m = model.to(device)\n",
        "# print the number of parameters in the model\n",
        "print(sum(p.numel() for p in m.parameters())/1e6, 'M parameters')\n",
        "\n",
        "# create a PyTorch optimizer\n",
        "optimizer = torch.optim.AdamW(model.parameters(), lr=learning_rate)\n",
        "\n",
        "for iter in range(max_iters):\n",
        "\n",
        "    # every once in a while evaluate the loss on train and val sets\n",
        "    if iter % eval_interval == 0 or iter == max_iters - 1:\n",
        "        losses = estimate_loss()\n",
        "        print(f\"step {iter}: train loss {losses['train']:.4f}, val loss {losses['val']:.4f}\")\n",
        "\n",
        "    # sample a batch of data\n",
        "    xb, yb = get_batch('train')\n",
        "\n",
        "    # evaluate the loss\n",
        "    logits, loss = model(xb, yb)\n",
        "    optimizer.zero_grad(set_to_none=True)\n",
        "    loss.backward()\n",
        "    optimizer.step()\n",
        "\n",
        "# generate from the model\n",
        "context = torch.zeros((1, 1), dtype=torch.long, device=device)\n",
        "print(decode(m.generate(context, max_new_tokens=2000)[0].tolist()))\n"
      ],
      "metadata": {
        "colab": {
          "base_uri": "https://localhost:8080/"
        },
        "id": "hoelkOrFY8bN",
        "outputId": "8121f30e-68ec-4bdc-bd17-5090a3572168"
      },
      "execution_count": 68,
      "outputs": [
        {
          "output_type": "stream",
          "name": "stdout",
          "text": [
            "0.213857 M parameters\n",
            "step 0: train loss 4.7565, val loss 4.7559\n",
            "step 100: train loss 2.3541, val loss 2.3179\n",
            "step 200: train loss 2.2387, val loss 2.2039\n",
            "step 300: train loss 2.1785, val loss 2.1369\n",
            "step 400: train loss 2.1416, val loss 2.0950\n",
            "step 500: train loss 2.0995, val loss 2.0604\n",
            "step 600: train loss 2.0737, val loss 2.0372\n",
            "step 700: train loss 2.0293, val loss 1.9936\n",
            "step 800: train loss 2.0284, val loss 2.0054\n",
            "step 900: train loss 2.0001, val loss 1.9797\n",
            "step 1000: train loss 1.9875, val loss 1.9639\n",
            "step 1100: train loss 1.9558, val loss 1.9393\n",
            "step 1200: train loss 1.9514, val loss 1.9155\n",
            "step 1300: train loss 1.9221, val loss 1.8980\n",
            "step 1400: train loss 1.9100, val loss 1.8820\n",
            "step 1500: train loss 1.8978, val loss 1.8881\n",
            "step 1600: train loss 1.8738, val loss 1.8687\n",
            "step 1700: train loss 1.8800, val loss 1.8614\n",
            "step 1800: train loss 1.8537, val loss 1.8374\n",
            "step 1900: train loss 1.8567, val loss 1.8406\n",
            "step 2000: train loss 1.8383, val loss 1.8351\n",
            "step 2100: train loss 1.8154, val loss 1.8116\n",
            "step 2200: train loss 1.8143, val loss 1.8067\n",
            "step 2300: train loss 1.8079, val loss 1.8125\n",
            "step 2400: train loss 1.7979, val loss 1.7934\n",
            "step 2500: train loss 1.7949, val loss 1.7943\n",
            "step 2600: train loss 1.7769, val loss 1.7757\n",
            "step 2700: train loss 1.7685, val loss 1.7620\n",
            "step 2800: train loss 1.7664, val loss 1.7604\n",
            "step 2900: train loss 1.7460, val loss 1.7565\n",
            "step 3000: train loss 1.7561, val loss 1.7587\n",
            "step 3100: train loss 1.7433, val loss 1.7464\n",
            "step 3200: train loss 1.7496, val loss 1.7495\n",
            "step 3300: train loss 1.7304, val loss 1.7409\n",
            "step 3400: train loss 1.7210, val loss 1.7318\n",
            "step 3500: train loss 1.7262, val loss 1.7265\n",
            "step 3600: train loss 1.7208, val loss 1.7229\n",
            "step 3700: train loss 1.7020, val loss 1.7122\n",
            "step 3800: train loss 1.7060, val loss 1.7133\n",
            "step 3900: train loss 1.6946, val loss 1.7218\n",
            "step 4000: train loss 1.6846, val loss 1.7092\n",
            "step 4100: train loss 1.6754, val loss 1.7006\n",
            "step 4200: train loss 1.7052, val loss 1.7181\n",
            "step 4300: train loss 1.6807, val loss 1.7025\n",
            "step 4400: train loss 1.6894, val loss 1.7050\n",
            "step 4500: train loss 1.6734, val loss 1.6860\n",
            "step 4600: train loss 1.6586, val loss 1.6692\n",
            "step 4700: train loss 1.6700, val loss 1.6809\n",
            "step 4800: train loss 1.6620, val loss 1.6789\n",
            "step 4900: train loss 1.6582, val loss 1.6750\n",
            "step 4999: train loss 1.6526, val loss 1.6648\n",
            "\n",
            "temukuubye nnyana etuyise okumi okuva olusolo.\n",
            "Temmeka akoze mu lugwanvu gaalenho.\n",
            "Bwekiri musitondo annyinga omumi egitya ye.\n",
            "Effengere z'okuvuga ddondo oluna\n",
            "Ate nnaku bave wo yankwali? kkata obubegere.\n",
            "\"Osialawo ngi ekigenda kyusinze nabo.\n",
            "Naga enjugambipa enteeke eyitagala omubakya\n",
            "Omuntu abaabbudfe omulemu okwogerwayo ku tyoyoso obuvuga\"\n",
            "Ekijja kyabo mulwanyise mekwange sibi n'e Pesitekaas Kesego\"\n",
            "Banzwangi yali omukimi soli!\n",
            "Okutuuse.\n",
            "Tinza amazzi n'abamu amaswbi.\n",
            "Kameppainga abantu okufuna engwerebwa.\n",
            "Olwo ennannyingi ddu zigendero engezaaluka okukyigala nnyo omuntu?\n",
            "eweetaayoona ng'olabi mugatta kukyasula, lyonna wakali nayewufulirayo tebeermukulu ku buyo baakulibwamu erina .\n",
            "Abasole okwata okufu.\n",
            "Batadde wasitungubidwa Kye Nameweddo\n",
            "Okufuna okusaba atandika ensungi by'omukama tusiwa ssomente.\n",
            "Baali muzibu mu Buganda olwo lwo guwangu entandisa pibulanga.\n",
            "Omutindike ze ammwe mukolebwa mu?\n",
            "Bonnyambala okose obulungi butebalaga musabi nagala, omukazi kumpangaka mulungi.\n",
            "Eno ne wamubi eziragala.\n",
            "Abataga asunga bansonnyum Omutandira Mu mbaka ffe.\n",
            "Omusango ojjo mugamba nnyo muteajja mu kirina.\n",
            "\"Mu yamanzi okulunga nkosertedde oluva \n",
            "Abantu bamBeeto ku kukuwa ku mmwemu.\n",
            "Omwangubye nnyo ate ky'omukisa Soirwa.\n",
            "Bwe badde nnyo ane tuzzimbirirako okulangi tekikyonna.\n",
            "Abafunga erifukiriza basobole. mungi.\n",
            "Nankuyiza omulidde?\n",
            "Abaana abakoyiririzi muleese bath Ammpye ava okusongo erimu Unenen Ntererrcembe omuzi ewadde mu kyenenge?\n",
            "Kinnisibwa Mazza nkyagala Kingi .\n",
            "\"Ku Kinayu cawan\n",
            "Abaazaanyo abantu abazigganda okuyiizibu okulangabimbiribuza.\n",
            "Obukuzealya ssemanyi nnyo enje zisobola\n",
            "Omulimi bwe okubiri be nti muggizze .\n",
            "Kirina emmisano, nsonga nayise ebikulu.\n",
            "Byazze mu mazifuuna yafumbira okuzizzibu ne empamba.\n",
            "Oluma oluyaganda kubuula n'ettawono abadde b'okuzibibwa.\n",
            "Baabaana anya ennalo ssu Buganda lingi y'e NRebbecu nny  .\n",
            "Lwaka gibi bimitya nayunze emirimu.\"\n",
            "Baali nga bali tebiwandira okuzza okusala?\n",
            "Okubeerawo Kagato amawalaba eby'ekiragala.\n",
            "Ebijja abakiri bityongo mu ns\n"
          ]
        }
      ]
    },
    {
      "cell_type": "code",
      "source": [],
      "metadata": {
        "id": "fjjvMifYZf7x"
      },
      "execution_count": null,
      "outputs": []
    }
  ]
}